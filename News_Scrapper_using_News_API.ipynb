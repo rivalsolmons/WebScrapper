{
  "nbformat": 4,
  "nbformat_minor": 0,
  "metadata": {
    "colab": {
      "provenance": [],
      "authorship_tag": "ABX9TyMYbrsTvhU3mWqd8LyzqEKI",
      "include_colab_link": true
    },
    "kernelspec": {
      "name": "python3",
      "display_name": "Python 3"
    },
    "language_info": {
      "name": "python"
    }
  },
  "cells": [
    {
      "cell_type": "markdown",
      "metadata": {
        "id": "view-in-github",
        "colab_type": "text"
      },
      "source": [
        "<a href=\"https://colab.research.google.com/github/rivalsolmons/WebScrapper/blob/main/News_Scrapper_using_News_API.ipynb\" target=\"_parent\"><img src=\"https://colab.research.google.com/assets/colab-badge.svg\" alt=\"Open In Colab\"/></a>"
      ]
    },
    {
      "cell_type": "code",
      "source": [
        "import requests"
      ],
      "metadata": {
        "id": "kIzW-dtH-wq0"
      },
      "execution_count": 23,
      "outputs": []
    },
    {
      "cell_type": "code",
      "execution_count": 24,
      "metadata": {
        "id": "wKu4ZGYs8djJ"
      },
      "outputs": [],
      "source": [
        "news_api_key = \"8e94d1c99acf413b90d8b7e32137c0ec\""
      ]
    },
    {
      "cell_type": "code",
      "source": [
        "url_1 = ('https://newsapi.org/v2/everything?'\n",
        "       'q=Apple&'\n",
        "       'from=2023-02-19&'\n",
        "       'sortBy=popularity&'\n",
        "       'apiKey={news_api_key}')\n",
        "url_7=f\"https://newsapi.org/v2/top-headlines?country=us&apiKey={news_api_key}\"\n",
        "url_2=f\"https://newsapi.org/v2/top-headlines?sources=bbc-news&apiKey={news_api_key}\"\n",
        "url_3=f\"https://newsapi.org/v2/everything?q=bitcoin&apiKey={news_api_key}\"\n",
        "main_page = requests.get(url_2).json()\n",
        "#article= main_page[\"articles\"]\n",
        "head=[]"
      ],
      "metadata": {
        "id": "XhY4qfXk83ew"
      },
      "execution_count": 56,
      "outputs": []
    },
    {
      "cell_type": "code",
      "source": [
        "article= main_page[\"articles\"]\n",
        "for ar in article:\n",
        "  head.append(ar[\"description\"])\n",
        "for i in range(10):\n",
        "  print(f\"{i+1}. {head[i]}\\n\")"
      ],
      "metadata": {
        "colab": {
          "base_uri": "https://localhost:8080/"
        },
        "id": "yXbBtW9Z-AH-",
        "outputId": "b8da510c-e9f7-41aa-d4a4-204258251cd0"
      },
      "execution_count": 54,
      "outputs": [
        {
          "output_type": "stream",
          "name": "stdout",
          "text": [
            "1. Ali was on the phone to Viam when the earthquake hit. It took him eight days to find her body.\n",
            "\n",
            "2. The iconic Balloon Dog was knocked to the ground by an art collector in Miami.\n",
            "\n",
            "3. The US secretary of state said Beijing was considering \"lethal support\" for Russia in Ukraine.\n",
            "\n",
            "4. It's not only widened the rift between the two, but also threatens to polarise the global community.\n",
            "\n",
            "5. Syria's army says a soldier is among the dead, after rockets hit a high-security area of the capital.\n",
            "\n",
            "6. The French president reaffirms support for Kyiv but hints that talks with Russia are a final goal.\n",
            "\n",
            "7. Veteran presenter Rachid M'Barki is accused of running stories planted by an Israel-based organisation.\n",
            "\n",
            "8. Police have quietly gone after those who took part in the November protests that shook China.\n",
            "\n",
            "9. The former US president will \"spend his remaining time at home with his family\", the Carter Center said.\n",
            "\n",
            "10. Police found six victims dead in five separate places in the town of Arkabutla, local media reports.\n",
            "\n"
          ]
        }
      ]
    },
    {
      "cell_type": "code",
      "source": [
        "main_page = requests.get(url_7).json()\n",
        "#article= main_page[\"articles\"]\n",
        "head=[]\n",
        "article= main_page[\"articles\"]\n",
        "for ar in article:\n",
        "  head.append(ar[\"description\"])\n",
        "for i in range(10):\n",
        "  print(f\"{i+1}. {head[i]}\\n\")"
      ],
      "metadata": {
        "colab": {
          "base_uri": "https://localhost:8080/"
        },
        "id": "HXigaJCCK4qT",
        "outputId": "211ec6e3-d071-48b1-b082-e374e73cc16d"
      },
      "execution_count": 57,
      "outputs": [
        {
          "output_type": "stream",
          "name": "stdout",
          "text": [
            "1. SEOUL, South Korea (AP) — North Korea said Sunday its latest intercontinental ballistic missile test  was meant to further bolster its “fatal” nuclear attack capacity against its rivals, as it threatened additional powerful steps in response to the upcoming m…\n",
            "\n",
            "2. What evidence will have an impact on the Colleton County jury in the Alex Murdaugh trial, and will it stick? What is the State's most powerful evidence?\n",
            "\n",
            "3. A hairdresser by day and a \"drone hunter\" by night, Oleksandr Shamshur, 41, is among tens of thousands of volunteers helping defend the skies over Ukraine against <a href=\"/world/europe/russia-declares-battlefield-gains-nato-ramps-up-military-equipment-ukrain…\n",
            "\n",
            "4. The newest member of the Sixers was the first G League player to compete in the Dunk Contest.\n",
            "\n",
            "5. ‘Aftersun’ director Charlotte Wells and 'Euphoria' director Sam Levinson were also among Saturday night's big winners.\n",
            "\n",
            "6. U.S. Secretary of State Antony Blinken on Saturday warned top Chinese diplomat Wang Yi of consequences should China provide material support to Russia's invasion of Ukraine, saying in an interview after the two met that Washington was concerned Beijing was co…\n",
            "\n",
            "7. Russian opposition leader Alexey Navalny is fond of a phrase, \"the wonderful Russia of the future,\" his shorthand for a country without President Vladimir Putin.\n",
            "\n",
            "8. Guilt is an unpleasant and overwhelming emotion, but researchers at the University of Basel have demonstrated that placebos can effectively reduce feelings of guilt, even when the placebo is administered openly. In our interactions with others, we may not alw…\n",
            "\n",
            "9. Russia's invasion of Ukraine dominated discussions at the Munich Security Conference. Western leaders and diplomats had a clear message for the man in the Kremlin who started the war nearly a year ago.\n",
            "\n",
            "10. Zayn was bolstered by his hometown crowd in Montreal, but it wasn't enough to overcome the undisputed champion\n",
            "\n"
          ]
        }
      ]
    },
    {
      "cell_type": "code",
      "source": [
        "main_page = requests.get(url_3).json()\n",
        "#article= main_page[\"articles\"]\n",
        "head=[]\n",
        "article= main_page[\"articles\"]\n",
        "for ar in article:\n",
        "  head.append(ar[\"description\"])\n",
        "for i in range(10):\n",
        "  print(f\"{i+1}. {head[i]}\\n\")"
      ],
      "metadata": {
        "colab": {
          "base_uri": "https://localhost:8080/"
        },
        "id": "sdB8J7_VLMQo",
        "outputId": "ea52e7da-7e93-455e-f7b8-68eba3c0d392"
      },
      "execution_count": 58,
      "outputs": [
        {
          "output_type": "stream",
          "name": "stdout",
          "text": [
            "1. A group of activist shareholders at the world's largest bitcoin investment trust claim they lost billions as the market tanked. Now they want to take control.\n",
            "\n",
            "2. Plus: Netflix expands its efforts to end password sharing, Apple’s “buy now, pay later” entry creeps closer, and we scrutinize your Bitcoin spending.\n",
            "\n",
            "3. In the bitter crypto winter, companies are making deep cuts to survive a new challenge.\n",
            "\n",
            "4. El Salvador, which has already lost tens of millions of taxpayer dollars on its authoritarian millennial president’s beleaguered effort to embrace cryptocurrencies, now says it plans to open a “bitcoin embassy” in Texas. The Central American country’s continu…\n",
            "\n",
            "5. Big investors are dipping their toes into crypto waters again after a bumper month for bitcoin.\n",
            "\n",
            "6. Silvergate stock surged more than 12% on Monday after bitcoin hit $23,000 over the weekend.\n",
            "\n",
            "7. Charlie Munger eviscerated the likes of bitcoin and dogecoin, dismissing them as stupid, worthless, and dangerous.\n",
            "\n",
            "8. El Salvador is reaching again beyond its borders to broaden its bitcoin strategy, following a partnership it struck with Switzerland last year.\n",
            "\n",
            "9. \"In a period of highly negative sentiment, we've seen suspiciously solid floors under bitcoin,\" finance professor John Griffin told Fortune.\n",
            "\n",
            "10. Ark Invest's bull case for bitcoin is $1.48 million, while its base case is $682,800 by 2030.\n",
            "\n"
          ]
        }
      ]
    },
    {
      "cell_type": "code",
      "source": [
        "url_1=\"https://newsapi.org/v2/top-headlines?country=ind&apiKey={news_api_key}\"\n",
        "\n",
        "main_page = requests.get(url_2).json()\n",
        "article= main_page[\"articles\"]\n",
        "head=[]\n",
        "for ar in article:\n",
        "  head.append(ar[\"description\"])\n",
        "for i in range(6):\n",
        "  print(f\"{i+1}{head[i]}\\n\")"
      ],
      "metadata": {
        "id": "iMkWq7WGA-LH"
      },
      "execution_count": null,
      "outputs": []
    },
    {
      "cell_type": "code",
      "source": [],
      "metadata": {
        "colab": {
          "base_uri": "https://localhost:8080/",
          "height": 235
        },
        "id": "G2ouBDafBE_b",
        "outputId": "58adfc72-1a0b-42a9-f727-f6961228caa6"
      },
      "execution_count": 43,
      "outputs": [
        {
          "output_type": "error",
          "ename": "KeyError",
          "evalue": "ignored",
          "traceback": [
            "\u001b[0;31m---------------------------------------------------------------------------\u001b[0m",
            "\u001b[0;31mKeyError\u001b[0m                                  Traceback (most recent call last)",
            "\u001b[0;32m<ipython-input-43-3a5ff736817a>\u001b[0m in \u001b[0;36m<module>\u001b[0;34m\u001b[0m\n\u001b[1;32m      1\u001b[0m \u001b[0mmain_page\u001b[0m \u001b[0;34m=\u001b[0m \u001b[0mrequests\u001b[0m\u001b[0;34m.\u001b[0m\u001b[0mget\u001b[0m\u001b[0;34m(\u001b[0m\u001b[0murl_1\u001b[0m\u001b[0;34m)\u001b[0m\u001b[0;34m.\u001b[0m\u001b[0mjson\u001b[0m\u001b[0;34m(\u001b[0m\u001b[0;34m)\u001b[0m\u001b[0;34m\u001b[0m\u001b[0;34m\u001b[0m\u001b[0m\n\u001b[0;32m----> 2\u001b[0;31m \u001b[0marticle\u001b[0m\u001b[0;34m=\u001b[0m \u001b[0mmain_page\u001b[0m\u001b[0;34m[\u001b[0m\u001b[0;34m\"articles\"\u001b[0m\u001b[0;34m]\u001b[0m\u001b[0;34m\u001b[0m\u001b[0;34m\u001b[0m\u001b[0m\n\u001b[0m\u001b[1;32m      3\u001b[0m \u001b[0mhead\u001b[0m\u001b[0;34m=\u001b[0m\u001b[0;34m[\u001b[0m\u001b[0;34m]\u001b[0m\u001b[0;34m\u001b[0m\u001b[0;34m\u001b[0m\u001b[0m\n\u001b[1;32m      4\u001b[0m \u001b[0;32mfor\u001b[0m \u001b[0mar\u001b[0m \u001b[0;32min\u001b[0m \u001b[0marticle\u001b[0m\u001b[0;34m:\u001b[0m\u001b[0;34m\u001b[0m\u001b[0;34m\u001b[0m\u001b[0m\n\u001b[1;32m      5\u001b[0m   \u001b[0mhead\u001b[0m\u001b[0;34m.\u001b[0m\u001b[0mappend\u001b[0m\u001b[0;34m(\u001b[0m\u001b[0mar\u001b[0m\u001b[0;34m[\u001b[0m\u001b[0;34m\"description\"\u001b[0m\u001b[0;34m]\u001b[0m\u001b[0;34m)\u001b[0m\u001b[0;34m\u001b[0m\u001b[0;34m\u001b[0m\u001b[0m\n",
            "\u001b[0;31mKeyError\u001b[0m: 'articles'"
          ]
        }
      ]
    },
    {
      "cell_type": "code",
      "source": [
        "import requests\n",
        "\n",
        "url = ('https://newsapi.org/v2/everything?'\n",
        "       'q=Current Affairs&'\n",
        "       'from=2023-02-19&'\n",
        "       'sortBy=popularity&'\n",
        "       'apiKey=8e94d1c99acf413b90d8b7e32137c0ec')\n",
        "\n",
        "response = requests.get(url)\n",
        "\n",
        "print(response.json())"
      ],
      "metadata": {
        "colab": {
          "base_uri": "https://localhost:8080/"
        },
        "id": "SmgYA8pPEFBh",
        "outputId": "f3c1ef49-835e-4f1b-d7a6-9c35542c1bf5"
      },
      "execution_count": 46,
      "outputs": [
        {
          "output_type": "stream",
          "name": "stdout",
          "text": [
            "{'status': 'ok', 'totalResults': 47, 'articles': [{'source': {'id': 'cnn', 'name': 'CNN'}, 'author': 'Tierney Sneed, Fredreka Schouten', 'title': 'A Wisconsin Supreme Court race holds high stakes for abortion rights and the 2024 election', 'description': \"What's typically an under-the-radar judicial election in Wisconsin has turned into a high-stakes and expensive fight for control of the state's Supreme Court -- with the future of abortion, voting rights and redistricting in this battleground state hanging in…\", 'url': 'https://www.cnn.com/2023/02/19/politics/wisconsin-supreme-court-election-abortion-redistricting/index.html', 'urlToImage': 'https://media.cnn.com/api/v1/images/stellar/prod/230217092223-01-wisconsin-supreme-court-abortion-voting-redistricting.jpg?c=16x9&q=w_800,c_fill', 'publishedAt': '2023-02-19T11:02:28Z', 'content': 'Whats typically an under-the-radar judicial election in Wisconsin has turned into a high-stakes and expensive fight for control of the states Supreme Court with the future of abortion, voting rights … [+12994 chars]'}, {'source': {'id': None, 'name': 'The Guardian'}, 'author': 'Stewart Lee', 'title': 'The ghosts of rotten Tories haunt my routine | Stewart Lee', 'description': 'As the Conservative casualties pile up, thank heavens for Lee Anderson, the no-nonsense MP for AshfieldIt’s half term and I am rewriting the opening topical 20 minutes of my touring standup show. Again. Damn Rishi’s rollercoaster ride. The current Conservativ…', 'url': 'https://www.theguardian.com/commentisfree/2023/feb/19/the-ghosts-of-rotten-tories-haunt-my-routine-lee-anderson-conservative-mp-ashfield', 'urlToImage': 'https://i.guim.co.uk/img/media/ad7c76a2bc9d37d83d15e14d7370aa466f7a0e8e/0_23_1476_886/master/1476.jpg?width=1200&height=630&quality=85&auto=format&fit=crop&overlay-align=bottom%2Cleft&overlay-width=100p&overlay-base64=L2ltZy9zdGF0aWMvb3ZlcmxheXMvdG8tb3BpbmlvbnMucG5n&enable=upscale&s=bb9a159203304144e2785212c5a079a4', 'publishedAt': '2023-02-19T10:00:05Z', 'content': 'Its half term and I am rewriting the opening topical 20 minutes of my touring standup show. Again. Damn Rishis rollercoaster ride. The current Conservative cabinet has had more lineup changes than th… [+5780 chars]'}, {'source': {'id': 'cbc-news', 'name': 'CBC News'}, 'author': 'Geoff Nixon', 'title': \"More choice, more costs, more complexity in Canada's streaming world\", 'description': \"It seems the more things you want to stream, the more services you need. And while consumers may complain about increasing outlays for these services, industry watchers say they likely won't be getting any cheaper.\", 'url': 'https://www.cbc.ca/news/business/canada-streaming-industry-competition-costs-1.6751662', 'urlToImage': 'https://i.cbc.ca/1.6751705.1676674696!/fileImage/httpImage/image.JPG_gen/derivatives/16x9_620/a-photo-illustration-showing-a-close-up-image-of-a-tv-remote-control-with-a-dedicated-netflix-button.JPG', 'publishedAt': '2023-02-19T09:00:00Z', 'content': 'Paul Lazenby is likely appearing in video being streamed at this very moment.\\r\\nThe actor and stunt professional\\xa0has appeared in scores of TV shows and movies, including the blockbuster Deadpool films… [+5911 chars]'}, {'source': {'id': None, 'name': 'Toronto Star'}, 'author': 'Marco Chown Oved - Climate Change Reporter', 'title': 'Three EV myths debunked: why electric vehicles really are cleaner than gas-burning cars', 'description': 'Here’s why this generally holds even when the electricity source is dirty, and despite the emissions produced by mining materials and making batteries.', 'url': 'https://www.thestar.com/news/canada/2023/02/19/three-ev-myths-debunked-why-electric-vehicles-really-are-cleaner-than-gas-burning-cars.html', 'urlToImage': 'https://images.thestar.com/orceQWEIQAa4YYtLdBH_s5mgWw8=/1200x800/smart/filters:cb(1676747867074):format(webp)/https://www.thestar.com/content/dam/thestar/news/canada/2023/02/19/three-ev-myths-debunked-why-electric-vehicles-really-are-cleaner-than-gas-burning-cars/kirt_ejesiak.jpg', 'publishedAt': '2023-02-19T12:00:00Z', 'content': 'Kirt Ejesiak is a technophile, an early adopter of new gadgets, and a northerner.\\r\\nHe’s the CEO of a drone company in Iqaluit, surveying land and ice conditions around Baffin Island. Like many in the… [+11494 chars]'}, {'source': {'id': None, 'name': 'Yahoo Entertainment'}, 'author': 'Simon Heffer', 'title': 'Nicola Sturgeon’s dreamland is over – Scotland faces a painful reckoning', 'description': 'The British, perhaps a gullible people, have always managed to admire politicians who – while presiding over a complete mess – can give the impression that...', 'url': 'https://finance.yahoo.com/news/nicola-sturgeon-dreamland-over-scotland-060000056.html', 'urlToImage': 'https://s.yimg.com/ny/api/res/1.2/jJGug47a_lM_zn2TxyNXkA--/YXBwaWQ9aGlnaGxhbmRlcjt3PTEyMDA7aD03NTA-/https://media.zenfs.com/en/the_telegraph_258/341c499f21307137ae5ca3927d7314b0', 'publishedAt': '2023-02-19T06:00:00Z', 'content': 'Nicola Sturgeons downfall forces Scotland to wake up to a painful reality check\\r\\nThe British, perhaps a gullible people, have always managed to admire politicians who while presiding over a complete … [+18258 chars]'}, {'source': {'id': None, 'name': 'Sinodaily.com'}, 'author': None, 'title': 'Senior Pentagon official visits Taiwan: report', 'description': 'Washington (AFP) Feb 17, 2023\\n\\n\\n A top US defense official has arrived in Taiwan on a rare visit, the Financial Times reported Friday, a trip bound to further enflame Washington-Beijing tensions over the downing of an alleged Chinese spy balloon. \\n\\nDeputy Ass…', 'url': 'https://www.sinodaily.com/reports/Senior_Pentagon_official_visits_Taiwan_report_999.html', 'urlToImage': 'https://www.spxdaily.com/images-hg/pentagon-new-hg.jpg', 'publishedAt': '2023-02-19T10:23:33Z', 'content': 'Senior Pentagon official visits Taiwan: reportby AFP Staff WritersWashington (AFP) Feb 17, 2023\\r\\nA top US defense official has arrived in Taiwan on a rare visit, the Financial Times reported Friday, … [+2035 chars]'}, {'source': {'id': None, 'name': 'The Star Online'}, 'author': 'MAHADHIR MONIHULDIN', 'title': 'Dr Wee hails move to grant citizenship for kids born overseas to Malaysian mothers', 'description': 'PETALING JAYA: Giving automatic citizenship to children born overseas to Malaysian mothers ensures equal rights for all Malaysians regardless of gender, says Datuk Seri Dr Wee Ka Siong. Read full story', 'url': 'https://www.thestar.com.my/news/nation/2023/02/19/dr-wee-hails-move-to-grant-citizenship-for-kids-born-overseas-to-malaysian-mothers', 'urlToImage': 'https://apicms.thestar.com.my/uploads/images/2023/02/19/1947379.jpg', 'publishedAt': '2023-02-19T06:32:00Z', 'content': 'PETALING JAYA: Giving automatic citizenship to children born overseas to Malaysian mothers ensures equal rights for all Malaysians regardless of gender, says Datuk Seri Dr Wee Ka Siong (pic).\\r\\nThe MC… [+1887 chars]'}, {'source': {'id': None, 'name': 'The Boston Globe'}, 'author': 'AAMER MADHANI, ZEKE MILLER', 'title': 'Biden’s test: Sustaining unity as Ukraine war enters Year 2', 'description': 'For President Biden, Ukraine was an unexpected crisis, but one that fits squarely into his larger foreign policy outlook that the United States and like-minded allies are in the midst of a generational conflict to demonstrate that liberal democracies such as …', 'url': 'https://www.bostonglobe.com/2023/02/19/nation/bidens-test-sustaining-unity-ukraine-war-enters-year-2/', 'urlToImage': 'https://bostonglobe-prod.cdn.arcpublishing.com/resizer/Bu7y5D2u7suvjNoYkv6F8rhQFKA=/506x0/cloudfront-us-east-1.images.arcpublishing.com/bostonglobe/W4MILP2HMYPU6MVJXRAVIGA3YQ.jpg', 'publishedAt': '2023-02-19T12:24:51Z', 'content': 'Yet as Russias invasion reaches the one-year mark, the city stands and Ukraine has beaten even its own expectations, buoyed by a US-led alliance that has agreed to equip Ukrainian forces with tanks, … [+7159 chars]'}, {'source': {'id': None, 'name': 'Whyevolutionistrue.com'}, 'author': 'whyevolutionistrue', 'title': 'Sunday: Hili dialogue', 'description': 'Welcome to the Sabbath that was made for man and woman, but not cats: February 19, 2023: National Chocolate Mint Day.\\xa0 Here are America’s best—a Chicago tradition: It’s also National Arabian Horse Day, Iwo Jima Day (the day in 1945 when the five-week battle i…', 'url': 'https://whyevolutionistrue.com/2023/02/19/sunday-hili-dialogue-417/', 'urlToImage': 'https://whyevolutionistrue.com/wp-content/uploads/2023/02/332114139_1729682114095852_5442602992010452840_n.jpg', 'publishedAt': '2023-02-19T12:45:50Z', 'content': 'Welcome to the Sabbath that was made for man and woman, but not cats: February 19, 2023: National Chocolate Mint Day.\\xa0 Here are America’s besta Chicago tradition:\\r\\nIt’s also National Arabian Horse Da… [+19350 chars]'}, {'source': {'id': 'independent', 'name': 'Independent'}, 'author': 'Aamer Madhani and Zeke Miller', 'title': 'Biden’s test: Sustaining unity as Ukraine war enters Year 2', 'description': 'A year ago, President Joe Biden braced for the worst as Russia massed troops in preparation to invade Ukraine', 'url': 'https://www.independent.co.uk/news/world/americas/us-politics/ukraine-ap-joe-biden-russia-vladimir-putin-b2285253.html', 'urlToImage': 'https://static.independent.co.uk/2023/02/19/12/Russia_Ukraine_War_Biden_99080.jpg?quality=75&width=1200&auto=webp', 'publishedAt': '2023-02-19T12:17:07Z', 'content': 'Sign up for the daily Inside Washington email for exclusive US coverage and analysis sent to your inbox\\r\\nGet our free Inside Washington email\\r\\nOne year ago, President Joe Biden was bracing for the wo… [+7964 chars]'}, {'source': {'id': None, 'name': 'VOA News'}, 'author': 'webdesk@voanews.com (Reuters)', 'title': \"Berlinale Film Charts Boris Becker's Career From 'Boom Boom' to Bust\", 'description': 'The career of Boris Beecker, whose thunderous delivery earned him the nickname \"Boom Boom\" as a young tennis player, took him from the greatest heights of sporting achievement aged 17 to prison at 54, and he is unsure if it could have gone any other way.\\n\\n\\n\"I…', 'url': 'https://www.voanews.com/a/6969463.html', 'urlToImage': 'https://gdb.voanews.com/01000000-0aff-0242-47cd-08db127182f1_w1200_r1.jpg', 'publishedAt': '2023-02-19T12:06:21Z', 'content': 'Berlin \\xa0The career of Boris Beecker, whose thunderous delivery earned him the nickname \"Boom Boom\" as a young tennis player, took him from the greatest heights of sporting achievement aged 17 to pris… [+2025 chars]'}, {'source': {'id': None, 'name': 'CNA'}, 'author': None, 'title': \"Berlinale film charts Boris Becker's career from 'boom boom' to bust\", 'description': 'BERLIN : The career of Boris Beecker, whose thunderous delivery earned him the nickname \"Boom Boom\" as a young tennis player, took him from the greatest heights of sporting achievement aged 17 to prison at 54, and he is unsure if it could have gone any other …', 'url': 'https://www.channelnewsasia.com/sport/berlinale-film-charts-boris-beckers-career-boom-boom-bust-3289696', 'urlToImage': 'https://onecms-res.cloudinary.com/image/upload/s--9lWx1syH--/fl_relative,g_south_east,l_one-cms:core:watermark:reuters,w_0.1/f_auto,q_auto/c_fill,g_auto,h_676,w_1200/v1/one-cms/core/2023-02-19t111619z_2_lynxmpej1i043_rtroptp_3_filmfestival-berlin-boris-becker.jpg?itok=MdpShjKf', 'publishedAt': '2023-02-19T11:16:19Z', 'content': 'BERLIN : The career of Boris Beecker, whose thunderous delivery earned him the nickname \"Boom Boom\" as a young tennis player, took him from the greatest heights of sporting achievement aged 17 to pri… [+2027 chars]'}, {'source': {'id': None, 'name': 'Daily Mail'}, 'author': 'Jimmy Briggs', 'title': \"ABC star Leigh Sales: Why she hasn't returned to 7:30 Report studio\", 'description': \"Leigh Sales resigned from presenting the ABC's 7:30 Report in June after 12 years in the role so she could spend more time with her young sons.\", 'url': 'https://www.dailymail.co.uk/tvshowbiz/article-11768331/ABC-star-Leigh-Sales-returned-7-30-Report-studio.html', 'urlToImage': 'https://i.dailymail.co.uk/1s/2023/02/19/04/67841759-0-image-a-11_1676782408555.jpg', 'publishedAt': '2023-02-19T05:51:07Z', 'content': \"Leigh Sales resigned from presenting the ABC's 7:30 Report in June after 12 years in the role so she could spend more time with her young sons.\\r\\nAnd on Sunday the journalist revealed she's never retu… [+2479 chars]\"}, {'source': {'id': None, 'name': 'Yahoo Entertainment'}, 'author': 'AAMER MADHANI and ZEKE MILLER', 'title': 'Biden’s test: Sustaining unity as Ukraine war enters Year 2', 'description': 'One year ago, President Joe Biden was bracing for the worst as Russia massed troops in preparation to invade Ukraine.  As many in the West and even in...', 'url': 'https://news.yahoo.com/biden-test-sustaining-unity-ukraine-121706007.html', 'urlToImage': 'https://s.yimg.com/ny/api/res/1.2/OMj9l1JnZSx_I.rv0VrTVQ--/YXBwaWQ9aGlnaGxhbmRlcjt3PTEyMDA7aD04MDA-/https://media.zenfs.com/en/ap.org/c74fde4e141002e462fa13ee05a68c60', 'publishedAt': '2023-02-19T12:17:06Z', 'content': 'WASHINGTON (AP) One year ago, President Joe Biden was bracing for the worst as Russia massed troops in preparation to invade Ukraine.\\r\\nAs many in the West and even in Ukraine doubted Russian Presiden… [+7825 chars]'}, {'source': {'id': None, 'name': 'Soldiersystems.net'}, 'author': 'SSD', 'title': 'Air Force Battle Lab Accelerates Battle Management for PACAF, ABMS CFT, ACC', 'description': 'NELLIS AIR FORCE BASE, Nev. (AFNS) — \\xa0 The 805th Combat Training Squadron, also known as the Shadow Operations Center-Nellis, recently hosted its second annual ShOC Flag event at Nellis Air Force Base. The event’s primary purpose was to analyze decision-makin…', 'url': 'https://soldiersystems.net/2023/02/19/air-force-battle-lab-accelerates-battle-management-for-pacaf-abms-cft-acc/', 'urlToImage': None, 'publishedAt': '2023-02-19T01:00:00Z', 'content': 'NELLIS AIR FORCE BASE, Nev. (AFNS) — \\xa0\\r\\nThe 805th Combat Training Squadron, also known as the Shadow Operations Center-Nellis, recently hosted its second annual ShOC Flag event at Nellis Air Force Ba… [+4463 chars]'}, {'source': {'id': None, 'name': 'Globalsecurity.org'}, 'author': 'John Pike', 'title': 'Afghan Activist Urges Taliban Engagement', 'description': 'A prominent female rights activist in Afghanistan lambasted the global community Saturday for failing to come up with a plan or agreement on how to help her crisis-ridden country since the Taliban took control of it 18 months ago.', 'url': 'https://www.globalsecurity.org/military/library/news/2023/02/mil-230218-voa01.htm', 'urlToImage': None, 'publishedAt': '2023-02-19T08:04:33Z', 'content': 'By Ayaz Gul February 18, 2023\\r\\nA prominent female rights activist in Afghanistan lambasted the global community Saturday for failing to come up with a plan or agreement on how to help her crisis-ridd… [+5477 chars]'}, {'source': {'id': None, 'name': 'The Punch'}, 'author': 'Our Reporters', 'title': 'A Poll Like No Other', 'description': 'On Saturday,\\xa0 February 25, 2023, Nigerians will vote in an election to select the successor to the incumbent president, Muhammadu Buhari. This will be the seventh consecutive cycle of presidential elections since the country returned to civil rule in May 1999…', 'url': 'https://punchng.com/a-poll-like-no-other/', 'urlToImage': 'https://cdn.punchng.com/wp-content/uploads/2022/05/17001759/2023-ELECTION.jpg', 'publishedAt': '2023-02-19T05:08:21Z', 'content': 'On Saturday,\\xa0 February 25, 2023, Nigerians will vote in an election to select the successor to the incumbent president, Muhammadu Buhari. This will be the seventh consecutive cycle of presidential el… [+7759 chars]'}, {'source': {'id': 'cbc-news', 'name': 'CBC News'}, 'author': 'Guy Quenneville', 'title': \"Peter Herrndorf, 'Renaissance man' of Canadian journalism and arts, dead at 82\", 'description': 'Peter Herrndorf,\\xa0an influential\\xa0Canadian journalist and news programmer who later headed the National Arts Centre in Ottawa, has died at age 82.', 'url': 'https://www.cbc.ca/news/canada/ottawa/peter-herrndorf-cbc-tvo-national-arts-centre-obituary-death-82-1.6753635', 'urlToImage': 'https://i.cbc.ca/1.4559507.1527788768!/cpImage/httpImage/image.jpg_gen/derivatives/16x9_620/nac-canada-150-20121120.jpg', 'publishedAt': '2023-02-19T02:03:11Z', 'content': 'Peter Herrndorf,\\xa0an influential\\xa0Canadian journalist and news programmer who later headed the National Arts Centre in Ottawa, has died at age 82.\\r\\nMatthew Herrndorf said his father died early Saturday… [+6649 chars]'}, {'source': {'id': 'abc-news', 'name': 'ABC News'}, 'author': 'AAMER MADHANI and ZEKE MILLER Associated Press', 'title': 'Biden’s test: Sustaining unity as Ukraine war enters Year 2', 'description': 'A year ago, President Joe Biden braced for the worst as Russia massed troops in preparation to invade Ukraine', 'url': 'https://abcnews.go.com/Politics/wireStory/bidens-test-sustaining-unity-ukraine-war-enters-year-97318652', 'urlToImage': 'https://s.abcnews.com/images/Politics/wirestory_15095c5e2fb8a9f9c0a235ffe0a161d0_12x5_992.jpg', 'publishedAt': '2023-02-19T12:44:34Z', 'content': 'WASHINGTON -- One year ago, President Joe Biden was bracing for the worst as Russia massed troops in preparation to invade Ukraine. \\r\\nAs many in the West and even in Ukraine doubted Russian President… [+7834 chars]'}, {'source': {'id': None, 'name': 'Daily Mail'}, 'author': 'Alastair Lockhart', 'title': \"Boris Becker is a 'devil' shamed tennis star's estranged wife says\", 'description': \"Dutch model Sharlely Kerssenberg, 46, said Boris Becker had stopped paying child support for their son Amadeus, 13, and said 'prison didn't make him a better person'.\", 'url': 'https://www.dailymail.co.uk/news/article-11767959/Boris-Becker-devil-shamed-tennis-stars-estranged-wife-says.html', 'urlToImage': 'https://i.dailymail.co.uk/1s/2023/02/19/01/67839197-0-image-a-59_1676770103462.jpg', 'publishedAt': '2023-02-19T01:43:57Z', 'content': \"Tennis star Boris Becker has been branded 'a devil' who 'thinks the world revolves around him' by his estranged wife following his release from prison.\\r\\nDutch model Sharlely Kerssenberg, 46, said Bec… [+3279 chars]\"}, {'source': {'id': None, 'name': 'Daily Mail'}, 'author': 'Tom Cotterill', 'title': 'TikTok leads the way of social media firms tracking people the most', 'description': 'Social media giants are tracking your every move, siphoning up huge amounts of personal data from their armies of unwitting followers - with some guilty of hoovering up more than others.', 'url': 'https://www.dailymail.co.uk/sciencetech/uk-science-tech-weekend-features-project/article-11749143/TikTok-leads-way-social-media-firms-tracking-people-most.html', 'urlToImage': 'https://i.dailymail.co.uk/1s/2023/02/15/09/67706505-0-image-a-7_1676455064924.jpg', 'publishedAt': '2023-02-19T09:12:56Z', 'content': 'Social media giants are tracking your every move, scooping up huge amounts of personal data from armies of unwitting users - but some are guilty of hoovering up more information than others.\\xa0\\r\\nTikTok… [+9474 chars]'}, {'source': {'id': None, 'name': 'Seeking Alpha'}, 'author': 'SA Transcripts', 'title': 'CAE Inc. (CAE) Q3 2023 Earnings Call Transcript', 'description': 'CAE Inc. (NYSE:NYSE:CAE) Q3 2023 Earnings Conference Call February 14, 2023 2:00 PM ETCompany ParticipantsAndrew Arnovitz - Senior Vice President and Investor RelationsMarc Parent -...', 'url': 'https://seekingalpha.com/article/4579782-cae-inc-cae-q3-2023-earnings-call-transcript', 'urlToImage': 'https://static.seekingalpha.com/assets/og_image_1200-29b2bfe1a595477db6826bd2126c63ac2091efb7ec76347a8e7f81ba17e3de6c.png', 'publishedAt': '2023-02-19T03:39:06Z', 'content': 'CAE Inc. (NYSE:CAE) Q3 2023 Earnings Conference Call February 14, 2023 2:00 PM ET\\r\\n Company Participants\\r\\n Andrew Arnovitz - Senior Vice President and Investor Relations\\r\\n Marc Parent - President and… [+55459 chars]'}, {'source': {'id': None, 'name': 'Freerepublic.com'}, 'author': 'Arutz Sheva', 'title': 'Lapid: Israel losing the US', 'description': 'Opposition leader Yair Lapid warned Sunday morning that Israel is \"losing the US\" as a result of the government\\'s actions. \"The Americans talk to me all the time and they are horrified by what is happening,\" Lapid said in an interview with Kan Reshet Bet. He …', 'url': 'https://freerepublic.com/focus/f-news/4132144/posts', 'urlToImage': None, 'publishedAt': '2023-02-19T07:02:28Z', 'content': 'Skip to comments.\\r\\nLapid: Israel losing the USArutz Sheva ^\\r\\n | 192/23\\r\\nPosted on 02/18/2023 11:02:28 PM PST by Eleutheria5\\r\\nOpposition leader Yair Lapid warned Sunday morning that Israel is \"losing … [+1486 chars]'}, {'source': {'id': None, 'name': 'Freerepublic.com'}, 'author': 'Arutz Sheva', 'title': 'Syria claims: Israel attacked near Damascus, fatalities reported', 'description': \"Syrian sources reported on Saturday that Israel attacked near Damascus. Air defense systems were activated. According to the sources, there were fatalities in the attack but there were conflicting reports as to the number. While Syria's Health Ministry said t…\", 'url': 'https://freerepublic.com/focus/f-news/4132142/posts', 'urlToImage': None, 'publishedAt': '2023-02-19T06:59:08Z', 'content': 'Skip to comments.\\r\\nSyria claims: Israel attacked near Damascus, fatalities reportedArutz Sheva ^\\r\\n | 18/2/23\\r\\nPosted on 02/18/2023 10:59:08 PM PST by Eleutheria5\\r\\nSyrian sources reported on Saturday … [+1741 chars]'}, {'source': {'id': None, 'name': 'Freerepublic.com'}, 'author': \"Children's Health Defense\", 'title': 'Biden Administration Attempts to Sabotage Mexico’s GMO Corn Ban to ‘Protect Short-Term Profits of U.S. Ag Giants’', 'description': 'Environmental groups on Tuesday accused the Biden administration of putting the profits of big agribusiness over public health and critical pollinators by attempting to obstruct the Mexican government’s ongoing push to ban genetically engineered (GE) corn. “T…', 'url': 'https://freerepublic.com/focus/f-news/4132117/posts', 'urlToImage': None, 'publishedAt': '2023-02-19T02:46:47Z', 'content': \"Skip to comments.\\r\\nBiden Administration Attempts to Sabotage Mexicos GMO Corn Ban to Protect Short-Term Profits of U.S. Ag GiantsChildren's Health Defense ^\\r\\n | February 17, 2023\\r\\n | Jake Johnson\\r\\nPo… [+2601 chars]\"}, {'source': {'id': None, 'name': 'Freerepublic.com'}, 'author': 'investing.com', 'title': \"North Korea confirms ICBM drill, touts 'fatal nuclear counterattack' capabilities\", 'description': 'North Korea launched a long-range ballistic missile into the sea off Japan\\'s west coast on Saturday afternoon after warning of a strong response to upcoming military drills by South Korea and the United States. \"The surprise ICBM launching drill ... is an act…', 'url': 'https://freerepublic.com/focus/f-news/4132123/posts', 'urlToImage': None, 'publishedAt': '2023-02-19T04:07:11Z', 'content': \"Skip to comments.\\r\\nNorth Korea confirms ICBM drill, touts 'fatal nuclear counterattack' capabilitiesinvesting.com ^\\r\\n | Feb 18, 2023 10:35PM ET\\r\\n | Soo-hyang Choi\\r\\nPosted on 02/18/2023 8:07:11 PM PST… [+2107 chars]\"}, {'source': {'id': None, 'name': 'Freerepublic.com'}, 'author': 'Fox News', 'title': 'Mitch McConnell tells German audience that Republican leaders support aid to Ukraine: ‘Don’t look at Twitter’', 'description': 'Senate Republican Leader Mitch McConnell on Friday told attendees at the Munich Security Conference that Republican leadership backs continued aid to Ukraine as it fights off a Russian invasion, despite voices within his party opposing continued assistance. \"…', 'url': 'https://freerepublic.com/focus/f-news/4132152/posts', 'urlToImage': None, 'publishedAt': '2023-02-19T11:46:08Z', 'content': 'Skip to comments.\\r\\nMitch McConnell tells German audience that Republican leaders support aid to Ukraine: Dont look at TwitterFox News ^\\r\\n | February 18, 2023\\r\\n | Adam Shaw\\r\\nPosted on 02/19/2023 3:46:… [+2278 chars]'}, {'source': {'id': None, 'name': 'Freerepublic.com'}, 'author': 'Hotair', 'title': 'Navy drops physical fitness requirement, offers travel for abortions', 'description': 'For quite some time now, one of the standard requirements to stay in the United States Navy has been the annual ritual of having to pass a basic physical fitness test. These exercises typically include the activities you would likely expect, including running…', 'url': 'https://freerepublic.com/focus/f-news/4132135/posts', 'urlToImage': None, 'publishedAt': '2023-02-19T05:52:22Z', 'content': 'Skip to comments.\\r\\nNavy drops physical fitness requirement, offers travel for abortionsHotair ^\\r\\n | 02/18/2023\\r\\n | Jazz Shaw\\r\\nPosted on 02/18/2023 9:52:22 PM PST by SeekAndFind\\r\\nFor quite some time n… [+5139 chars]'}, {'source': {'id': None, 'name': 'Freerepublic.com'}, 'author': 'Epoch Times', 'title': 'US Ends Search For 2 Airborne Objects Recently Shot Down Over Alaska And Lake Huron: Search operations for the two objects have “discovered no debris,” says Northern Command', 'description': 'The U.S. Northern Command said Friday it recommended to conclude searches for two unidentified objects that were shot down in U.S. airspace earlier this month.Defense Secretary Lloyd Austin concurred with the recommendation, the command said in a statement.On…', 'url': 'https://freerepublic.com/focus/f-news/4132138/posts', 'urlToImage': None, 'publishedAt': '2023-02-19T06:07:25Z', 'content': 'Skip to comments.\\r\\nUS Ends Search For 2 Airborne Objects Recently Shot Down Over Alaska And Lake Huron: Search operations for the two objects have discovered no debris, says Northern CommandEpoch Tim… [+3854 chars]'}, {'source': {'id': None, 'name': 'Freerepublic.com'}, 'author': 'Breitbart', 'title': 'U.S. Universities, Backed by SOROS and ZUCKERBERG, Throw Support Behind Durbin-LINDSEY GRAHAM DREAM Act’ AMNESTY', 'description': 'United States universities, backed by billionaires George Soros and Mark Zuckerberg, are throwing their support behind Sens. Dick Durbin (D-IL) and Lindsey Graham’s (R-SC) “DREAM Act” amnesty for millions of illegal aliens. (Snip.) The Presidents’ Alliance, w…', 'url': 'https://freerepublic.com/focus/f-news/4132094/posts', 'urlToImage': None, 'publishedAt': '2023-02-19T00:53:55Z', 'content': 'Skip to comments.\\r\\nU.S. Universities, Backed by SOROS and ZUCKERBERG, Throw Support Behind Durbin-LINDSEY GRAHAM DREAM Act AMNESTYBreitbart ^\\r\\n | 02/18/2023\\r\\n | John Binder \\r\\nPosted on 02/18/2023 4:5… [+5630 chars]'}, {'source': {'id': None, 'name': 'Freerepublic.com'}, 'author': 'CBS News', 'title': 'China is considering providing \"lethal support\" to aid Russian invasion of Ukraine, Blinken says', 'description': '\"We have seen them provide non-lethal support to Russia for use in Ukraine. The concern that we have now is based on information we have that they\\'re considering providing lethal support,...\"...Blinken confirmed that Chinese companies are already providing no…', 'url': 'https://freerepublic.com/focus/f-news/4132139/posts', 'urlToImage': None, 'publishedAt': '2023-02-19T06:11:13Z', 'content': 'Skip to comments.\\r\\nChina is considering providing \"lethal support\" to aid Russian invasion of Ukraine, Blinken saysCBS News ^\\r\\n | FEBRUARY 18, 2023\\r\\n | SOPHIA BARKOFF\\r\\nPosted on 02/18/2023 10:11:13 P… [+3676 chars]'}, {'source': {'id': None, 'name': 'Freerepublic.com'}, 'author': 'Various driveby media television networks', 'title': 'Sunday Morning Talk Show Thread 19 February 2023', 'description': 'The Talk Shows Feb 19th, 2023 Guests to be interviewed today on major television talk shows:FOX NEWS SUNDAY (Fox Network): Anchor Shannon Bream: 2024 Republican presidential candidate and former Gov. Nikki Haley (R-S.C.); John Kirby, coordinator for strategic…', 'url': 'https://freerepublic.com/focus/f-news/4132160/posts', 'urlToImage': None, 'publishedAt': '2023-02-19T13:00:24Z', 'content': 'Skip to comments.\\r\\nSunday Morning Talk Show Thread 19 February 2023Various driveby media television networks ^\\r\\n | 19 February 2023\\r\\n | Various Self-Serving Politicians and Big Media Screaming Faces\\r… [+16737 chars]'}, {'source': {'id': None, 'name': 'Freerepublic.com'}, 'author': 'Youtube.com', 'title': 'Update from Ukraine | Ruzzia Prepares the Big Aviation Strike on Ukraine', 'description': 'Update from Ukraine | Ruzzia Prepares the Big Aviation Strike on Ukraine https://www.youtube.com/watch?v=l03XZAsk6HE Follow on Instagram up to date uploads. https://www.instagram.com/denys_pilot/ ****SUMMARY Military MAPS & COMMENTS here: NEW- https://militar…', 'url': 'https://freerepublic.com/focus/f-bloggers/4132106/posts', 'urlToImage': None, 'publishedAt': '2023-02-19T02:14:56Z', 'content': 'Follow on Instagram up to date uploads. https://www.instagram.com/denys_pilot/ ****SUMMARY Military MAPS &amp; COMMENTS here: NEW- https://militaryland.net/news/invasion-day-360-summary/ARTICLE\\r\\nHow … [+19840 chars]'}, {'source': {'id': None, 'name': 'Toronto Star'}, 'author': 'Aamer Madhani And Zeke Miller - The Associated Press', 'title': 'Biden’s test: Sustaining unity as Ukraine war enters Year 2', 'description': 'WASHINGTON (AP) — One year ago, President Joe Biden was bracing for the worst as Russia massed troops in preparation to invade Ukraine.', 'url': 'https://www.thestar.com/news/world/us/2023/02/19/bidens-test-sustaining-unity-as-ukraine-war-enters-year-2.html', 'urlToImage': 'https://images.thestar.com/3yQjafgAVa6JKCryYgKsAhwq7u4=/1280x1024/smart/filters:cb(1676809811558):format(webp)/https://www.thestar.com/content/dam/thestar/news/world/us/2023/02/19/bidens-test-sustaining-unity-as-ukraine-war-enters-year-2/20230219070216-63f213afd32afc94ba360fbbjpeg.jpg', 'publishedAt': '2023-02-19T12:19:48Z', 'content': 'WASHINGTON (AP) One year ago, President Joe Biden was bracing for the worst as Russia massed troops in preparation to invade Ukraine. \\r\\nAs many in the West and even in Ukraine doubted Russian Preside… [+8144 chars]'}, {'source': {'id': None, 'name': 'The Conversation Africa'}, 'author': 'Keith Gottschalk, Political Scientist, University of the Western Cape', 'title': \"Paul Mashatile is set to become South Africa's deputy president: what he brings to the table\", 'description': 'The veteran liberation struggle activist brings gravitas to every position he occupies.', 'url': 'https://theconversation.com/paul-mashatile-is-set-to-become-south-africas-deputy-president-what-he-brings-to-the-table-200089', 'urlToImage': 'https://images.theconversation.com/files/510840/original/file-20230217-364-wwl3re.jpg?ixlib=rb-1.1.0&q=45&auto=format&w=1356&h=668&fit=crop', 'publishedAt': '2023-02-19T06:41:20Z', 'content': 'Paul Mashatile was voted ANC deputy president in December 2022. Deaan Vivier/Foto24/Gallo Images/Getty Images\\r\\nSouth Africa is set to have a new deputy president in Paul Shipokosa Mashatile, the depu… [+6622 chars]'}, {'source': {'id': None, 'name': 'Daily Mail'}, 'author': 'Alastair Lockhart', 'title': \"Boris Becker is a 'devil' shamed tennis star's estranged wife says\", 'description': \"Dutch model Sharlely Kerssenberg, 46, said Boris Becker had stopped paying child support for their son Amadeus, 13, and said 'prison didn't make him a better person'.\", 'url': 'https://www.dailymail.co.uk/news/article-11767959/Boris-Becker-devil-shamed-tennis-stars-estranged-wife-says.html', 'urlToImage': 'https://i.dailymail.co.uk/1s/2023/02/19/01/67839197-0-image-a-59_1676770103462.jpg', 'publishedAt': '2023-02-19T01:43:57Z', 'content': \"Tennis star Boris Becker has been branded 'a devil' who 'thinks the world revolves around him' by his estranged wife following his release from prison.\\r\\nDutch model Sharlely Kerssenberg, 46, said Bec… [+3279 chars]\"}, {'source': {'id': None, 'name': 'Daily Mail'}, 'author': 'Keith Griffith', 'title': 'Why does this tiny Kentucky town have six dollar stores?', 'description': 'Olive Hill, a hamlet situated on\\xa0Tygarts Creek in the Appalachian foothills, has two Family Dollar locations and four Dollar General stores in and immediately surrounding the town.', 'url': 'https://www.dailymail.co.uk/news/article-11736321/Why-does-tiny-Kentucky-town-six-dollar-stores.html', 'urlToImage': 'https://i.dailymail.co.uk/1s/2023/02/10/18/67556093-0-image-a-46_1676054340185.jpg', 'publishedAt': '2023-02-19T12:40:07Z', 'content': 'A small town in eastern Kentucky has an unusual claim to fame: with a population of just 1,424, it has six dollar stores, most of them built in the past few years.\\r\\nOlive Hill, a quiet hamlet situate… [+16701 chars]'}, {'source': {'id': None, 'name': 'The Star Online'}, 'author': 'The Star Online', 'title': 'Malaysia and Thailand police to strengthen ties to fight job scams', 'description': 'BANGKOK: The police forces of Malaysia and Thailand have agreed to strengthen cooperation in efforts to combat the issue of job scams involving the citizens of both countries. Read full story', 'url': 'https://www.thestar.com.my/news/nation/2023/02/19/malaysia-and-thailand-police-to-strengthen-ties-to-fight-job-scams', 'urlToImage': 'https://apicms.thestar.com.my/uploads/images/2023/02/19/1947509.jpeg', 'publishedAt': '2023-02-19T08:40:00Z', 'content': 'BANGKOK: The police forces of Malaysia and Thailand have agreed to strengthen cooperation in efforts to combat the issue of job scams involving the citizens of both countries.\\r\\nThis was decided in th… [+2417 chars]'}, {'source': {'id': None, 'name': 'The Times of Israel'}, 'author': None, 'title': 'Head of Knesset law panel: US envoy would ‘stutter’ if pressed on overhaul criticism', 'description': \"After ambassador calls to 'pump brakes' on judicial shakeup, Simcha Rothman suggests he doesn't know what he's talking about; Likud minister tells Nides to 'mind your own business'\", 'url': 'https://www.timesofisrael.com/head-of-knesset-law-panel-us-envoy-would-stutter-if-pressed-on-overhaul-criticism/', 'urlToImage': 'https://static.timesofisrael.com/www/uploads/2023/02/Untitled-design-2-e1676802582280-1024x640.jpg', 'publishedAt': '2023-02-19T10:43:45Z', 'content': 'Coalition officials on Sunday vehemently rejected US Ambassador to Israel Thomas Nides’s call for Prime Minister Benjamin Netanyahu’s government to “pump the brakes” on its push to radically transfor… [+5234 chars]'}, {'source': {'id': None, 'name': '10TV'}, 'author': 'Josh Funk (ap Business Writer)', 'title': 'Bird flu costs pile up as outbreak enters year 2', 'description': 'The bad news is that with the outbreak entering its second year and the spring migratory season looming, there is no end in sight.', 'url': 'https://www.10tv.com/article/news/health/bird-flu-costs-pile-up-as-outbreak-enters-second-year-chickens/507-8261961d-19ca-4f2d-9c38-7def4ee9dc9f', 'urlToImage': 'https://media.tegna-media.com/assets/CCT/images/df4e8a40-bd09-4618-b648-4cfd54b932b9/df4e8a40-bd09-4618-b648-4cfd54b932b9_1140x641.jpg', 'publishedAt': '2023-02-19T11:13:05Z', 'content': \"OMAHA, Neb. The ongoing bird flu outbreak has cost the government roughly $661 million and added to consumers' pain at the grocery store after more than 58 million birds were\\xa0slaughtered to limit the… [+5414 chars]\"}, {'source': {'id': 'reuters', 'name': 'Reuters'}, 'author': None, 'title': \"Berlinale film charts Boris Becker's career from 'boom boom' to bust\", 'description': 'The career of Boris Beecker, whose thunderous delivery earned him the nickname \"Boom Boom\" as a young tennis player, took him from the greatest heights of sporting achievement aged 17 to prison at 54, and he is unsure if it could have gone any other way.', 'url': 'https://www.reuters.com/lifestyle/berlinale-film-charts-boris-beckers-career-boom-boom-bust-2023-02-19/', 'urlToImage': 'https://www.reuters.com/resizer/9CysZtuq-RvgCp2wtdMwQZrTZmQ=/1200x628/smart/filters:quality(80)/cloudfront-us-east-2.images.arcpublishing.com/reuters/QITQTHDZVNJGNHMRZDGGVGT6GI.jpg', 'publishedAt': '2023-02-19T11:34:52Z', 'content': 'BERLIN, Feb 19 (Reuters) - The career of Boris Beecker, whose thunderous delivery earned him the nickname \"Boom Boom\" as a young tennis player, took him from the greatest heights of sporting achievem… [+2200 chars]'}, {'source': {'id': None, 'name': 'WCVB Boston'}, 'author': None, 'title': 'Bird flu costs pile up as outbreak enters second year', 'description': 'Unlike past years, the virus that causes highly pathogenic avian influenza found a way to survive through the heat of last summer, leading to a rise in cases reported in the fall.', 'url': 'https://www.wcvb.com/article/bird-flu-costs-pile-up-outbreak-enters-second-year/42965970', 'urlToImage': 'https://kubrick.htvapps.com/htv-prod-media.s3.amazonaws.com/images/screen-shot-2023-02-19-at-3-47-15-am-1676796447.png?crop=1.00xw:0.854xh;0,0&resize=1200:*', 'publishedAt': '2023-02-19T08:49:00Z', 'content': \"OMAHA, Neb. —The ongoing bird flu outbreak has cost the government roughly $661 million and added to consumers' pain at the grocery store after more than 58 million birds were slaughtered to limit th… [+5433 chars]\"}, {'source': {'id': None, 'name': 'Audacy.com'}, 'author': 'The Associated Press', 'title': 'Biden’s test: Sustaining unity as Ukraine war enters Year 2', 'description': 'A year ago, President Joe Biden braced for the worst as Russia massed troops in preparation to invade Ukraine', 'url': 'https://www.audacy.com/325/news/politics/bidens-test-sustaining-unity-as-ukraine-war-enters-year-2', 'urlToImage': 'https://images.radio.com/aiu-media/ap-42df4cdcdd4f4522ad378df1eab36574_0a1aza3c0-Russia_Ukraine_War_Biden_99080.jpg', 'publishedAt': '2023-02-19T12:26:32Z', 'content': 'WASHINGTON (AP) — One year ago, President Joe Biden was bracing for the worst as Russia massed troops in preparation to invade Ukraine. \\r\\nAs many in the West and even in Ukraine doubted Russian Presi… [+7891 chars]'}, {'source': {'id': None, 'name': 'ActionNewsJax.com'}, 'author': 'AAMER MADHANI and ZEKE MILLER', 'title': 'Biden’s test: Sustaining unity as Ukraine war enters Year 2', 'description': 'A year ago, President Joe Biden braced for the worst as Russia massed troops in preparation to invade Ukraine', 'url': 'https://www.actionnewsjax.com/news/politics/bidens-test/QSWW7UCTO7JMZLAXZYLI46KEMQ/', 'urlToImage': 'https://cmg-cmg-tv-10050-prod.cdn.arcpublishing.com/resizer/LrckYGU-Tns5CnB0olKLRm5YSiA=/1440x810/filters:format(jpg):quality(70)/cloudfront-us-east-1.images.arcpublishing.com/cmg/4DJPC32ZCHDPTKJ7NBHSECIJ3Y.jpg', 'publishedAt': '2023-02-19T12:25:26Z', 'content': 'WASHINGTON — (AP) One year ago, President Joe Biden was bracing for the worst as Russia massed troops in preparation to invade Ukraine.\\r\\nAs many in the West and even in Ukraine doubted Russian Presid… [+7984 chars]'}, {'source': {'id': None, 'name': 'WPXI Pittsburgh'}, 'author': 'AAMER MADHANI and ZEKE MILLER', 'title': 'Biden’s test: Sustaining unity as Ukraine war enters Year 2', 'description': 'A year ago, President Joe Biden braced for the worst as Russia massed troops in preparation to invade Ukraine', 'url': 'https://www.wpxi.com/news/politics/bidens-test/QSWW7UCTO7JMZLAXZYLI46KEMQ/', 'urlToImage': 'https://cmg-cmg-tv-10080-prod.cdn.arcpublishing.com/resizer/LrckYGU-Tns5CnB0olKLRm5YSiA=/1440x810/filters:format(jpg):quality(70)/cloudfront-us-east-1.images.arcpublishing.com/cmg/4DJPC32ZCHDPTKJ7NBHSECIJ3Y.jpg', 'publishedAt': '2023-02-19T12:25:26Z', 'content': 'WASHINGTON — (AP) One year ago, President Joe Biden was bracing for the worst as Russia massed troops in preparation to invade Ukraine.\\r\\nAs many in the West and even in Ukraine doubted Russian Presid… [+7984 chars]'}, {'source': {'id': None, 'name': 'Blogspot.com'}, 'author': 'noreply@blogger.com (Retired Analyst)', 'title': 'Injustice persists amid security shake-up in the Philippines', 'description': 'Posted to the East Asia Forum (Feb 18, 2023): Injustice persists amid security shake-up in the Philippines (By Kevin Nielsen M Agojo, City University of Hong Kong)Barely a year into his administration, Philippine President Ferdinand ‘Bongbong’ Marcos Jr has u…', 'url': 'http://retiredanalyst.blogspot.com/2023/02/injustice-persists-amid-security-shake.html', 'urlToImage': 'https://lh3-testonly.googleusercontent.com/blogger_img_proxy/AHs97-mCRrA_XOnRrxmgF9ni75z8ptDf3TtGk_jcX3aWZUgVziufNLMmBuHAMwPzDuPdyPnPz5k5BRZOpl779PxxR4eClP75jjucMl2UYdADmdykbarK_RYAkApr0kq5NEQppZEz98Zh9BSwZ2T-5FngeRURcxgxkurP2xKi7k78TvZfvJc8o0-TjQ1ZGwKoeymG4NiVG1qBSnDaRpo9F9i2kF-D_BVrGpyiSF1eNhl6N9oaMt_totYoEvhnfUpgxWs7LrFCtGNzarBB07UDY2SOLz3OU8OzQzXgJpzMMYzvRFYQn4rzv79PK1NkqscXbTBw4XCHyWDYLYXrCFq_F6pkzQ=w1200-h630-p-k-no-nu', 'publishedAt': '2023-02-19T07:35:00Z', 'content': 'Posted to the East Asia Forum (Feb 18, 2023): Injustice persists amid security shake-up in the Philippines (By Kevin Nielsen M Agojo, City University of Hong Kong)\\r\\nBarely a year into his administrat… [+6899 chars]'}, {'source': {'id': None, 'name': 'Blogspot.com'}, 'author': 'noreply@blogger.com (Retired Analyst)', 'title': 'Meet China’s ‘Futuristic & Covert’ Unit Believed To Be Behind Balloon Campaigns Over US, India & Japan', 'description': 'Posted to the Asia Times (Feb 19, 2023):\\xa0Meet China’s ‘Futuristic & Covert’ Unit Believed To Be Behind Balloon Campaigns Over US, India & Japan (By Ashish Dangwal)Spy balloons continue to hog global media attention after a USAF F-22 Raptor shot down a suspect…', 'url': 'http://retiredanalyst.blogspot.com/2023/02/meet-chinas-futuristic-covert-unit.html', 'urlToImage': 'https://lh3.googleusercontent.com/blogger_img_proxy/AHs97-m7fHq9Z23QvkJU-8-wOcxQ8EZcScT4h-qGtnMPYhr-lSDiiRjnFk7AasdXrHU4BQCh5xAv_prRMhVfUlJc10XYE12Q6Vae49FKr1ufQTNrjD3x0ZBZzi6CcgH1hri8GNLKxO-h2ky7wE45cUOmGS1yyYGoHhjPbYdupGYblrw8V3wbiivUcX5EZLEl0_6x1rtxq6UKVAFtv69NY9vDtXLMNFCgR4ywjKVOgaE2rC3LCspkpTrPolxozRytPwihhgUH9bTSHhETvZpq770KmQrVnBQLqPIsRkHm9NbdctP8NqUhaskaPSvUoCHnMqus-wX2FqbMR1UOGgizSR3RXkA0ePwtdi3sUFDB9oUAnK-ZCqclQbN3lt2k2nLJZfQcQj1ggOTEMrTGNJuKY1MlYmJXdGxxoJV2R4x8DSzg=w1200-h630-p-k-no-nu', 'publishedAt': '2023-02-19T07:21:00Z', 'content': 'Posted to the Asia Times (Feb 19, 2023):\\xa0Meet China’s ‘Futuristic &amp; Covert’ Unit Believed To Be Behind Balloon Campaigns Over US, India &amp; Japan (By Ashish Dangwal)\\r\\nSpy balloons continue to h… [+8841 chars]'}]}\n"
          ]
        }
      ]
    },
    {
      "cell_type": "code",
      "source": [
        "main_page = requests.get(url).json()\n",
        "article= main_page[\"articles\"]\n",
        "head=[]\n",
        "for ar in article:\n",
        "  head.append(ar[\"description\"])\n",
        "for i in range(25):\n",
        "  print(f\"{i+1}{head[i]}\\n\")"
      ],
      "metadata": {
        "colab": {
          "base_uri": "https://localhost:8080/"
        },
        "id": "VtuvttKNIE6d",
        "outputId": "60eba66f-80ed-4ef6-be2a-a913a3079f7b"
      },
      "execution_count": 47,
      "outputs": [
        {
          "output_type": "stream",
          "name": "stdout",
          "text": [
            "1What's typically an under-the-radar judicial election in Wisconsin has turned into a high-stakes and expensive fight for control of the state's Supreme Court -- with the future of abortion, voting rights and redistricting in this battleground state hanging in…\n",
            "\n",
            "2As the Conservative casualties pile up, thank heavens for Lee Anderson, the no-nonsense MP for AshfieldIt’s half term and I am rewriting the opening topical 20 minutes of my touring standup show. Again. Damn Rishi’s rollercoaster ride. The current Conservativ…\n",
            "\n",
            "3It seems the more things you want to stream, the more services you need. And while consumers may complain about increasing outlays for these services, industry watchers say they likely won't be getting any cheaper.\n",
            "\n",
            "4Here’s why this generally holds even when the electricity source is dirty, and despite the emissions produced by mining materials and making batteries.\n",
            "\n",
            "5The British, perhaps a gullible people, have always managed to admire politicians who – while presiding over a complete mess – can give the impression that...\n",
            "\n",
            "6Washington (AFP) Feb 17, 2023\n",
            "\n",
            "\n",
            " A top US defense official has arrived in Taiwan on a rare visit, the Financial Times reported Friday, a trip bound to further enflame Washington-Beijing tensions over the downing of an alleged Chinese spy balloon. \n",
            "\n",
            "Deputy Ass…\n",
            "\n",
            "7PETALING JAYA: Giving automatic citizenship to children born overseas to Malaysian mothers ensures equal rights for all Malaysians regardless of gender, says Datuk Seri Dr Wee Ka Siong. Read full story\n",
            "\n",
            "8For President Biden, Ukraine was an unexpected crisis, but one that fits squarely into his larger foreign policy outlook that the United States and like-minded allies are in the midst of a generational conflict to demonstrate that liberal democracies such as …\n",
            "\n",
            "9Welcome to the Sabbath that was made for man and woman, but not cats: February 19, 2023: National Chocolate Mint Day.  Here are America’s best—a Chicago tradition: It’s also National Arabian Horse Day, Iwo Jima Day (the day in 1945 when the five-week battle i…\n",
            "\n",
            "10A year ago, President Joe Biden braced for the worst as Russia massed troops in preparation to invade Ukraine\n",
            "\n",
            "11The career of Boris Beecker, whose thunderous delivery earned him the nickname \"Boom Boom\" as a young tennis player, took him from the greatest heights of sporting achievement aged 17 to prison at 54, and he is unsure if it could have gone any other way.\n",
            "\n",
            "\n",
            "\"I…\n",
            "\n",
            "12BERLIN : The career of Boris Beecker, whose thunderous delivery earned him the nickname \"Boom Boom\" as a young tennis player, took him from the greatest heights of sporting achievement aged 17 to prison at 54, and he is unsure if it could have gone any other …\n",
            "\n",
            "13Leigh Sales resigned from presenting the ABC's 7:30 Report in June after 12 years in the role so she could spend more time with her young sons.\n",
            "\n",
            "14One year ago, President Joe Biden was bracing for the worst as Russia massed troops in preparation to invade Ukraine.  As many in the West and even in...\n",
            "\n",
            "15NELLIS AIR FORCE BASE, Nev. (AFNS) —   The 805th Combat Training Squadron, also known as the Shadow Operations Center-Nellis, recently hosted its second annual ShOC Flag event at Nellis Air Force Base. The event’s primary purpose was to analyze decision-makin…\n",
            "\n",
            "16A prominent female rights activist in Afghanistan lambasted the global community Saturday for failing to come up with a plan or agreement on how to help her crisis-ridden country since the Taliban took control of it 18 months ago.\n",
            "\n",
            "17On Saturday,  February 25, 2023, Nigerians will vote in an election to select the successor to the incumbent president, Muhammadu Buhari. This will be the seventh consecutive cycle of presidential elections since the country returned to civil rule in May 1999…\n",
            "\n",
            "18Peter Herrndorf, an influential Canadian journalist and news programmer who later headed the National Arts Centre in Ottawa, has died at age 82.\n",
            "\n",
            "19A year ago, President Joe Biden braced for the worst as Russia massed troops in preparation to invade Ukraine\n",
            "\n",
            "20Dutch model Sharlely Kerssenberg, 46, said Boris Becker had stopped paying child support for their son Amadeus, 13, and said 'prison didn't make him a better person'.\n",
            "\n",
            "21Social media giants are tracking your every move, siphoning up huge amounts of personal data from their armies of unwitting followers - with some guilty of hoovering up more than others.\n",
            "\n",
            "22CAE Inc. (NYSE:NYSE:CAE) Q3 2023 Earnings Conference Call February 14, 2023 2:00 PM ETCompany ParticipantsAndrew Arnovitz - Senior Vice President and Investor RelationsMarc Parent -...\n",
            "\n",
            "23Opposition leader Yair Lapid warned Sunday morning that Israel is \"losing the US\" as a result of the government's actions. \"The Americans talk to me all the time and they are horrified by what is happening,\" Lapid said in an interview with Kan Reshet Bet. He …\n",
            "\n",
            "24Syrian sources reported on Saturday that Israel attacked near Damascus. Air defense systems were activated. According to the sources, there were fatalities in the attack but there were conflicting reports as to the number. While Syria's Health Ministry said t…\n",
            "\n",
            "25Environmental groups on Tuesday accused the Biden administration of putting the profits of big agribusiness over public health and critical pollinators by attempting to obstruct the Mexican government’s ongoing push to ban genetically engineered (GE) corn. “T…\n",
            "\n"
          ]
        }
      ]
    }
  ]
}